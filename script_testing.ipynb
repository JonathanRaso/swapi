{
 "cells": [
  {
   "cell_type": "code",
   "execution_count": 37,
   "id": "46208d1a",
   "metadata": {},
   "outputs": [],
   "source": [
    "import requests\n",
    "import pandas as pd\n",
    "\n",
    "planets_data_set = []\n",
    "\n",
    "def fetch_planets(uri):\n",
    "    if requests.get(uri).status_code == 200:\n",
    "        n_planets = requests.get(uri).json().get('count', 'key not found')\n",
    "        print('Planets count fetching succeded')\n",
    "    else:\n",
    "        print('Planets number unknown/Request failed')\n",
    "    for i in range(n_planets):\n",
    "        r=requests.get(f'{uri}/{str(i+1)}')\n",
    "        if r.status_code == 200:\n",
    "            planets_data = r.json()\n",
    "            planets_data_set.append(planets_data)\n",
    "    print('All available planets data fetched and pushed to planets_data_set')\n",
    "\n",
    "def transform_data(data_set):\n",
    "    df = pd.DataFrame.from_dict(data_set)\n",
    "    return df"
   ]
  }
 ],
 "metadata": {
  "kernelspec": {
   "display_name": "Python 3",
   "language": "python",
   "name": "python3"
  },
  "language_info": {
   "codemirror_mode": {
    "name": "ipython",
    "version": 3
   },
   "file_extension": ".py",
   "mimetype": "text/x-python",
   "name": "python",
   "nbconvert_exporter": "python",
   "pygments_lexer": "ipython3",
   "version": "3.8.8"
  }
 },
 "nbformat": 4,
 "nbformat_minor": 5
}
